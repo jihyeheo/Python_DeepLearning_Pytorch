{
 "cells": [
  {
   "cell_type": "markdown",
   "metadata": {},
   "source": [
    "## MNIST를 이용해 MLP 설계"
   ]
  },
  {
   "cell_type": "markdown",
   "metadata": {},
   "source": [
    "퍼셉트론이 지니고 있는 한계점을 극복하기 위해 여러 layer를 쌓아올린 MLP가 등장하였다.MLP(Multi Layers Perceptron)은 Hidden layer를 넣었다."
   ]
  },
  {
   "cell_type": "code",
   "execution_count": 1,
   "metadata": {},
   "outputs": [],
   "source": [
    "#1. 필요한 모듈 import\n",
    "import numpy as np\n",
    "import matplotlib.pyplot as plt\n",
    "import torch\n",
    "import torch.nn as nn\n",
    "import torch.nn.functional as F\n",
    "from torchvision import transforms, datasets"
   ]
  },
  {
   "cell_type": "code",
   "execution_count": 2,
   "metadata": {},
   "outputs": [
    {
     "name": "stdout",
     "output_type": "stream",
     "text": [
      "Using PyTorch version :  1.8.0   Device :  cuda:0\n"
     ]
    }
   ],
   "source": [
    "#2. 딥러닝 모델을 설계할 때 활용하는 cuda 확인\n",
    "if torch.cuda.is_available():\n",
    "    DEVICE = torch.device('cuda:0')\n",
    "else :\n",
    "    DEVICE = torch.device('cpu')\n",
    "    \n",
    "print('Using PyTorch version : ', torch.__version__, '  Device : ', DEVICE)"
   ]
  },
  {
   "cell_type": "code",
   "execution_count": 3,
   "metadata": {},
   "outputs": [],
   "source": [
    "BATCH_SIZE = 32\n",
    "EPOCHS = 10"
   ]
  },
  {
   "cell_type": "markdown",
   "metadata": {},
   "source": [
    "BATCH_SIZE : MLP 모델을 학습할 때 필요한 데이터 개수의 단위<br>\n",
    "데이터를 32개씩 쪼개서 전체 데이터를 학습함 -> mini_batch <br>\n",
    "EPOCHS : mini_batch의 데이터 갯수를 정해주면 Iteration은 전체 데이터 개수에서 1개의 mini_batch를 구성하고 있는 데이터 개수를 나눠준 몫 만큼 Iteration 진행"
   ]
  },
  {
   "cell_type": "markdown",
   "metadata": {},
   "source": [
    "전체 데이터 1만개\n",
    "1000개의 데이터를 이용해 mini_batch를 만들면 한 epoch 당 10개의 Iteration을 만든다."
   ]
  },
  {
   "cell_type": "code",
   "execution_count": 4,
   "metadata": {},
   "outputs": [],
   "source": [
    "train = datasets.MNIST(root='C:/Users/HeoJiHae/Desktop/허지혜/파이썬딥러닝파이토치/data',train=True, download=True,\n",
    "                      transform=transforms.ToTensor())\n",
    "test = datasets.MNIST(root='C:/Users/HeoJiHae/Desktop/허지혜/파이썬딥러닝파이토치/data',train=False,transform=transforms.ToTensor())\n",
    "train_loader = torch.utils.data.DataLoader(dataset=train,\n",
    "                                          batch_size=BATCH_SIZE,\n",
    "                                           shuffle=True)\n",
    "test_loader = torch.utils.data.DataLoader(dataset=test,\n",
    "                                          batch_size=BATCH_SIZE,\n",
    "                                           shuffle=False)"
   ]
  },
  {
   "cell_type": "code",
   "execution_count": 5,
   "metadata": {},
   "outputs": [
    {
     "name": "stdout",
     "output_type": "stream",
     "text": [
      "X_train torch.Size([32, 1, 28, 28]) y_train torch.Size([32])\n"
     ]
    }
   ],
   "source": [
    "for (X_train, y_train) in train_loader :\n",
    "    print(\"X_train\", X_train.shape, \"y_train\", y_train.shape)\n",
    "    break"
   ]
  },
  {
   "cell_type": "code",
   "execution_count": 6,
   "metadata": {},
   "outputs": [
    {
     "data": {
      "image/png": "[encoded data removed]",
      "text/plain": [
       "<Figure size 864x72 with 12 Axes>"
      ]
     },
     "metadata": {
      "needs_background": "light"
     },
     "output_type": "display_data"
    }
   ],
   "source": [
    "#3. 데이터 확인하기\n",
    "pltsize = 1\n",
    "\n",
    "plt.figure(figsize=(12 * pltsize, pltsize))\n",
    "for i in range(12):\n",
    "    plt.subplot(1, 12, i+1)\n",
    "    plt.axis('off')\n",
    "    plt.imshow(X_train[i,:,:,:].numpy().reshape(28,28), cmap='gray_r')\n",
    "    plt.title(\"Class : \" + str(y_train[i].item()))"
   ]
  },
  {
   "cell_type": "code",
   "execution_count": 7,
   "metadata": {},
   "outputs": [],
   "source": [
    "#4. MLP 모델 설계\n",
    "class Net(nn.Module):\n",
    "    def __init__(self):\n",
    "        super(Net, self).__init__()\n",
    "        self.fc1 = nn.Linear(28*28, 512)\n",
    "        self.fc2 = nn.Linear(512, 256)\n",
    "        self.fc3 = nn.Linear(256,10)\n",
    "        \n",
    "    def forward(self, x):\n",
    "        x = x.view(-1, 28*28)\n",
    "        x = self.fc1(x)\n",
    "        x = F.sigmoid(x)\n",
    "        x = self.fc2(x)\n",
    "        x = F.sigmoid(x)\n",
    "        x = self.fc3(x)\n",
    "        x = F.log_softmax(x,dim=1)\n",
    "        return x"
   ]
  },
  {
   "cell_type": "code",
   "execution_count": 8,
   "metadata": {},
   "outputs": [
    {
     "name": "stdout",
     "output_type": "stream",
     "text": [
      "Net(\n",
      "  (fc1): Linear(in_features=784, out_features=512, bias=True)\n",
      "  (fc2): Linear(in_features=512, out_features=256, bias=True)\n",
      "  (fc3): Linear(in_features=256, out_features=10, bias=True)\n",
      ")\n"
     ]
    }
   ],
   "source": [
    "#5. Optimizer, Loss Function 설정\n",
    "model = Net().to(DEVICE)\n",
    "optimizer = torch.optim.SGD(model.parameters(), lr=0.01, momentum=0.5)\n",
    "#https://codedragon.tistory.com/9466\n",
    "# optimizer의 관성을 나타내는 momentum\n",
    "# 관성의 방향을 고려해 진동과 폭을 줄이는 효과를 나타낸다.\n",
    "# momentum을 설정해주므로써 정확도를 개선할 수 있다.\n",
    "criterion = nn.CrossEntropyLoss()\n",
    "\n",
    "print(model)"
   ]
  },
  {
   "cell_type": "code",
   "execution_count": 37,
   "metadata": {},
   "outputs": [],
   "source": [
    "#6. MLP 모델 학습을 진행하여 학습 데이터에 대한 모델 성능을 확인하는\n",
    "# 함수 정의\n",
    "def train(model,train_loader, optimizer,log_interval):\n",
    "    model.train()\n",
    "    for batch_idx, (image,label) in enumerate(train_loader): #(1)\n",
    "        image = image.to(DEVICE)\n",
    "        label = label.to(DEVICE)\n",
    "        optimizer.zero_grad() #(2)\n",
    "        output = model(image)\n",
    "        loss = criterion(output, label)\n",
    "        loss.backward() #(3)\n",
    "        optimizer.step() #(4)\n",
    "        \n",
    "        if batch_idx % log_interval == 0 :\n",
    "            print(\"Train Epoch : {} [{}/{}({:.0f}%)] Train Loss : {:.6f}\".format(\n",
    "            Epoch, batch_idx * len(image),\n",
    "            len(train_loader.dataset), 100.* batch_idx / len(train_loader),\n",
    "            loss.item()))"
   ]
  },
  {
   "cell_type": "markdown",
   "metadata": {},
   "source": [
    "(1): train_loader에는 학습에 이용되는 이미지 데이터와 레이블 데이터가 Mini-batch 단위로 묶여 저장되어 있다. 해당 train_loader 내에 Mini-batch 단위로 저장된 데이터를 순서대로 이용하여 MLP 모형을 학습을 시킨다."
   ]
  },
  {
   "cell_type": "markdown",
   "metadata": {},
   "source": [
    "(2) -> (3) -> (4) : \n",
    "     예전에 계산했던 loss의 gradient 값이 optimizer에 할당되어 있기 때문에 optimizer의 Gradient를 초기화한다.\n",
    "     loss 값을 계산한 결과를 바탕으로 Back Propagation을 통해 계산된 Gradient 값을 각 파라미터에 할당한다.\n",
    "     각 파라미터에 할당된 Gradient 값을 이용해 파라미터 값을 업데이트한다."
   ]
  },
  {
   "cell_type": "code",
   "execution_count": 23,
   "metadata": {},
   "outputs": [],
   "source": [
    "#7. 학습되는 과정 속에서 검증 데이터에 대한 모델 성능을 확인하는 함수 정의\n",
    "def evaluate(model,test_loader):\n",
    "    model.eval()\n",
    "    test_loss = 0\n",
    "    correct = 0\n",
    "    \n",
    "    with torch.no_grad(): #(1)\n",
    "        for image, label in test_loader:\n",
    "            image = image.to(DEVICE)\n",
    "            label = label.to(DEVICE)\n",
    "            output = model(image)\n",
    "            test_loss += criterion(output, label).item()\n",
    "            prediction = output.max(1, keepdim=True)[1] #(2)\n",
    "            correct += prediction.eq(label.view_as(prediction)).sum().item()\n",
    "            \n",
    "    test_loss /= len(test_loader.dataset)\n",
    "    test_accuracy = 100.* correct / len(test_loader.dataset)\n",
    "    return test_loss, test_accuracy "
   ]
  },
  {
   "cell_type": "markdown",
   "metadata": {},
   "source": [
    "(1) : MLP 모델을 평가하는 단계에서 Gradient를 통해 파라미터 값이 업데이트 되는 현상을 방지하기 위해 no_grad() 메서드를 이용해 Gradient의 흐름을 억제한다.\n",
    "\n",
    "(2) : MLP 모델의 Output 값은 크기가 10인 벡터값이다. 계산된 벡터 값 내 가장 큰 값인 위치에 대해 해당 위치에 대응하는 클래스로 예측했다고 판단한다."
   ]
  },
  {
   "cell_type": "code",
   "execution_count": 40,
   "metadata": {},
   "outputs": [
    {
     "name": "stdout",
     "output_type": "stream",
     "text": [
      "Train Epoch : 1 [0/60000(0%)] Train Loss : 0.224550\n",
      "Train Epoch : 1 [6400/60000(11%)] Train Loss : 0.110952\n",
      "Train Epoch : 1 [12800/60000(21%)] Train Loss : 0.265875\n",
      "Train Epoch : 1 [19200/60000(32%)] Train Loss : 0.192227\n",
      "Train Epoch : 1 [25600/60000(43%)] Train Loss : 0.182140\n",
      "Train Epoch : 1 [32000/60000(53%)] Train Loss : 0.108630\n",
      "Train Epoch : 1 [38400/60000(64%)] Train Loss : 0.122011\n",
      "Train Epoch : 1 [44800/60000(75%)] Train Loss : 0.103275\n",
      "Train Epoch : 1 [51200/60000(85%)] Train Loss : 0.177801\n",
      "Train Epoch : 1 [57600/60000(96%)] Train Loss : 0.164235\n",
      "|n[EPOCH :1], Test Loss : 0.0067, Test Accuracy : 93.89 \n",
      "Train Epoch : 2 [0/60000(0%)] Train Loss : 0.063531\n",
      "Train Epoch : 2 [6400/60000(11%)] Train Loss : 0.130379\n",
      "Train Epoch : 2 [12800/60000(21%)] Train Loss : 0.090625\n",
      "Train Epoch : 2 [19200/60000(32%)] Train Loss : 0.200581\n",
      "Train Epoch : 2 [25600/60000(43%)] Train Loss : 0.493169\n",
      "Train Epoch : 2 [32000/60000(53%)] Train Loss : 0.314043\n",
      "Train Epoch : 2 [38400/60000(64%)] Train Loss : 0.255854\n",
      "Train Epoch : 2 [44800/60000(75%)] Train Loss : 0.206119\n",
      "Train Epoch : 2 [51200/60000(85%)] Train Loss : 0.229495\n",
      "Train Epoch : 2 [57600/60000(96%)] Train Loss : 0.178775\n",
      "|n[EPOCH :2], Test Loss : 0.0065, Test Accuracy : 93.99 \n",
      "Train Epoch : 3 [0/60000(0%)] Train Loss : 0.366084\n",
      "Train Epoch : 3 [6400/60000(11%)] Train Loss : 0.272436\n",
      "Train Epoch : 3 [12800/60000(21%)] Train Loss : 0.126412\n",
      "Train Epoch : 3 [19200/60000(32%)] Train Loss : 0.199426\n",
      "Train Epoch : 3 [25600/60000(43%)] Train Loss : 0.103114\n",
      "Train Epoch : 3 [32000/60000(53%)] Train Loss : 0.257947\n",
      "Train Epoch : 3 [38400/60000(64%)] Train Loss : 0.214280\n",
      "Train Epoch : 3 [44800/60000(75%)] Train Loss : 0.180710\n",
      "Train Epoch : 3 [51200/60000(85%)] Train Loss : 0.447966\n",
      "Train Epoch : 3 [57600/60000(96%)] Train Loss : 0.138928\n",
      "|n[EPOCH :3], Test Loss : 0.0064, Test Accuracy : 94.08 \n",
      "Train Epoch : 4 [0/60000(0%)] Train Loss : 0.208048\n",
      "Train Epoch : 4 [6400/60000(11%)] Train Loss : 0.260151\n",
      "Train Epoch : 4 [12800/60000(21%)] Train Loss : 0.164909\n",
      "Train Epoch : 4 [19200/60000(32%)] Train Loss : 0.079089\n",
      "Train Epoch : 4 [25600/60000(43%)] Train Loss : 0.223467\n",
      "Train Epoch : 4 [32000/60000(53%)] Train Loss : 0.066087\n",
      "Train Epoch : 4 [38400/60000(64%)] Train Loss : 0.082244\n",
      "Train Epoch : 4 [44800/60000(75%)] Train Loss : 0.224744\n",
      "Train Epoch : 4 [51200/60000(85%)] Train Loss : 0.103051\n",
      "Train Epoch : 4 [57600/60000(96%)] Train Loss : 0.281273\n",
      "|n[EPOCH :4], Test Loss : 0.0063, Test Accuracy : 94.19 \n",
      "Train Epoch : 5 [0/60000(0%)] Train Loss : 0.089659\n",
      "Train Epoch : 5 [6400/60000(11%)] Train Loss : 0.165977\n",
      "Train Epoch : 5 [12800/60000(21%)] Train Loss : 0.054804\n",
      "Train Epoch : 5 [19200/60000(32%)] Train Loss : 0.248697\n",
      "Train Epoch : 5 [25600/60000(43%)] Train Loss : 0.265968\n",
      "Train Epoch : 5 [32000/60000(53%)] Train Loss : 0.165158\n",
      "Train Epoch : 5 [38400/60000(64%)] Train Loss : 0.225076\n",
      "Train Epoch : 5 [44800/60000(75%)] Train Loss : 0.044021\n",
      "Train Epoch : 5 [51200/60000(85%)] Train Loss : 0.027450\n",
      "Train Epoch : 5 [57600/60000(96%)] Train Loss : 0.175475\n",
      "|n[EPOCH :5], Test Loss : 0.0062, Test Accuracy : 94.23 \n",
      "Train Epoch : 6 [0/60000(0%)] Train Loss : 0.108893\n",
      "Train Epoch : 6 [6400/60000(11%)] Train Loss : 0.221141\n",
      "Train Epoch : 6 [12800/60000(21%)] Train Loss : 0.323559\n",
      "Train Epoch : 6 [19200/60000(32%)] Train Loss : 0.293276\n",
      "Train Epoch : 6 [25600/60000(43%)] Train Loss : 0.137570\n",
      "Train Epoch : 6 [32000/60000(53%)] Train Loss : 0.333740\n",
      "Train Epoch : 6 [38400/60000(64%)] Train Loss : 0.112192\n",
      "Train Epoch : 6 [44800/60000(75%)] Train Loss : 0.253835\n",
      "Train Epoch : 6 [51200/60000(85%)] Train Loss : 0.172917\n",
      "Train Epoch : 6 [57600/60000(96%)] Train Loss : 0.074955\n",
      "|n[EPOCH :6], Test Loss : 0.0060, Test Accuracy : 94.41 \n",
      "Train Epoch : 7 [0/60000(0%)] Train Loss : 0.098193\n",
      "Train Epoch : 7 [6400/60000(11%)] Train Loss : 0.205720\n",
      "Train Epoch : 7 [12800/60000(21%)] Train Loss : 0.455774\n",
      "Train Epoch : 7 [19200/60000(32%)] Train Loss : 0.184026\n",
      "Train Epoch : 7 [25600/60000(43%)] Train Loss : 0.087046\n",
      "Train Epoch : 7 [32000/60000(53%)] Train Loss : 0.082606\n",
      "Train Epoch : 7 [38400/60000(64%)] Train Loss : 0.161036\n",
      "Train Epoch : 7 [44800/60000(75%)] Train Loss : 0.182882\n",
      "Train Epoch : 7 [51200/60000(85%)] Train Loss : 0.536652\n",
      "Train Epoch : 7 [57600/60000(96%)] Train Loss : 0.087908\n",
      "|n[EPOCH :7], Test Loss : 0.0059, Test Accuracy : 94.47 \n",
      "Train Epoch : 8 [0/60000(0%)] Train Loss : 0.390189\n",
      "Train Epoch : 8 [6400/60000(11%)] Train Loss : 0.101749\n",
      "Train Epoch : 8 [12800/60000(21%)] Train Loss : 0.270531\n",
      "Train Epoch : 8 [19200/60000(32%)] Train Loss : 0.413554\n",
      "Train Epoch : 8 [25600/60000(43%)] Train Loss : 0.071331\n",
      "Train Epoch : 8 [32000/60000(53%)] Train Loss : 0.035486\n",
      "Train Epoch : 8 [38400/60000(64%)] Train Loss : 0.121071\n",
      "Train Epoch : 8 [44800/60000(75%)] Train Loss : 0.164678\n",
      "Train Epoch : 8 [51200/60000(85%)] Train Loss : 0.242768\n",
      "Train Epoch : 8 [57600/60000(96%)] Train Loss : 0.146913\n",
      "|n[EPOCH :8], Test Loss : 0.0059, Test Accuracy : 94.54 \n",
      "Train Epoch : 9 [0/60000(0%)] Train Loss : 0.123318\n",
      "Train Epoch : 9 [6400/60000(11%)] Train Loss : 0.104385\n",
      "Train Epoch : 9 [12800/60000(21%)] Train Loss : 0.105258\n",
      "Train Epoch : 9 [19200/60000(32%)] Train Loss : 0.062462\n",
      "Train Epoch : 9 [25600/60000(43%)] Train Loss : 0.312610\n",
      "Train Epoch : 9 [32000/60000(53%)] Train Loss : 0.183006\n",
      "Train Epoch : 9 [38400/60000(64%)] Train Loss : 0.102915\n",
      "Train Epoch : 9 [44800/60000(75%)] Train Loss : 0.119685\n",
      "Train Epoch : 9 [51200/60000(85%)] Train Loss : 0.118440\n",
      "Train Epoch : 9 [57600/60000(96%)] Train Loss : 0.324193\n",
      "|n[EPOCH :9], Test Loss : 0.0057, Test Accuracy : 94.64 \n",
      "Train Epoch : 10 [0/60000(0%)] Train Loss : 0.087828\n",
      "Train Epoch : 10 [6400/60000(11%)] Train Loss : 0.449849\n",
      "Train Epoch : 10 [12800/60000(21%)] Train Loss : 0.189326\n",
      "Train Epoch : 10 [19200/60000(32%)] Train Loss : 0.544260\n",
      "Train Epoch : 10 [25600/60000(43%)] Train Loss : 0.353865\n",
      "Train Epoch : 10 [32000/60000(53%)] Train Loss : 0.192763\n",
      "Train Epoch : 10 [38400/60000(64%)] Train Loss : 0.105003\n",
      "Train Epoch : 10 [44800/60000(75%)] Train Loss : 0.100723\n",
      "Train Epoch : 10 [51200/60000(85%)] Train Loss : 0.570819\n",
      "Train Epoch : 10 [57600/60000(96%)] Train Loss : 0.081180\n",
      "|n[EPOCH :10], Test Loss : 0.0057, Test Accuracy : 94.60 \n"
     ]
    }
   ],
   "source": [
    "#8. MLP 학습을 실행하면서 Train, Test set의 Loss 및 Test Accuracy를 확인하자.\n",
    "for Epoch in range(1, EPOCHS+1):\n",
    "    train(model, train_loader, optimizer, log_interval = 200)\n",
    "    test_loss, test_accuracy = evaluate(model, test_loader)\n",
    "    print(\"|n[EPOCH :{}], Test Loss : {:.4f}, Test Accuracy : {:.2f} \".\n",
    "         format(Epoch, test_loss, test_accuracy))"
   ]
  },
  {
   "cell_type": "code",
   "execution_count": null,
   "metadata": {},
   "outputs": [],
   "source": []
  }
 ],
 "metadata": {
  "kernelspec": {
   "display_name": "Python 3",
   "language": "python",
   "name": "python3"
  },
  "language_info": {
   "codemirror_mode": {
    "name": "ipython",
    "version": 3
   },
   "file_extension": ".py",
   "mimetype": "text/x-python",
   "name": "python",
   "nbconvert_exporter": "python",
   "pygments_lexer": "ipython3",
   "version": "3.8.5"
  }
 },
 "nbformat": 4,
 "nbformat_minor": 4
}
