{
 "cells": [
  {
   "cell_type": "markdown",
   "metadata": {},
   "source": [
    "## 4.1 텐서"
   ]
  },
  {
   "cell_type": "markdown",
   "metadata": {},
   "source": [
    "### 4.1.1 Scalar"
   ]
  },
  {
   "cell_type": "code",
   "execution_count": 1,
   "metadata": {},
   "outputs": [
    {
     "name": "stdout",
     "output_type": "stream",
     "text": [
      "tensor([1.])\n"
     ]
    }
   ],
   "source": [
    "import torch\n",
    "\n",
    "sca1 = torch.tensor([1.])\n",
    "print(sca1)"
   ]
  },
  {
   "cell_type": "code",
   "execution_count": 2,
   "metadata": {},
   "outputs": [
    {
     "name": "stdout",
     "output_type": "stream",
     "text": [
      "tensor([3., 3.])\n"
     ]
    }
   ],
   "source": [
    "sca2 = torch.tensor([3.,3.])\n",
    "print(sca2)"
   ]
  },
  {
   "cell_type": "code",
   "execution_count": 6,
   "metadata": {},
   "outputs": [
    {
     "name": "stdout",
     "output_type": "stream",
     "text": [
      "tensor([4., 4.])\n",
      "tensor([4., 4.])\n"
     ]
    }
   ],
   "source": [
    "print(sca1 + sca2)\n",
    "print(torch.add(sca1, sca2))"
   ]
  },
  {
   "cell_type": "code",
   "execution_count": 7,
   "metadata": {},
   "outputs": [
    {
     "name": "stdout",
     "output_type": "stream",
     "text": [
      "tensor([-2., -2.])\n",
      "tensor([-2., -2.])\n"
     ]
    }
   ],
   "source": [
    "print(sca1 - sca2)\n",
    "print(torch.sub(sca1, sca2))"
   ]
  },
  {
   "cell_type": "code",
   "execution_count": 8,
   "metadata": {},
   "outputs": [
    {
     "name": "stdout",
     "output_type": "stream",
     "text": [
      "tensor([3., 3.])\n",
      "tensor([3., 3.])\n"
     ]
    }
   ],
   "source": [
    "print(sca1 * sca2)\n",
    "print(torch.mul(sca1, sca2))"
   ]
  },
  {
   "cell_type": "code",
   "execution_count": 9,
   "metadata": {},
   "outputs": [
    {
     "name": "stdout",
     "output_type": "stream",
     "text": [
      "tensor([0.3333, 0.3333])\n",
      "tensor([0.3333, 0.3333])\n"
     ]
    }
   ],
   "source": [
    "print(sca1/sca2)\n",
    "print(torch.div(sca1,sca2))"
   ]
  },
  {
   "cell_type": "markdown",
   "metadata": {},
   "source": [
    "### 4.1.2 Vector\n",
    "\n",
    "벡터는 하나의 값을 표현할 때 2개 이상의 수치로 표현한 것이다.\n",
    "스칼라의 형태와 동일한 속성을 가지고 있지만 여러 수치 값을 이용하여 표현하는 방식이다."
   ]
  },
  {
   "cell_type": "code",
   "execution_count": 10,
   "metadata": {},
   "outputs": [
    {
     "name": "stdout",
     "output_type": "stream",
     "text": [
      "tensor([1., 2., 3.])\n"
     ]
    }
   ],
   "source": [
    "vec1 = torch.tensor([1.,2.,3.])\n",
    "print(vec1)"
   ]
  },
  {
   "cell_type": "code",
   "execution_count": 11,
   "metadata": {},
   "outputs": [
    {
     "name": "stdout",
     "output_type": "stream",
     "text": [
      "tensor([4., 5., 6.])\n"
     ]
    }
   ],
   "source": [
    "vec2 = torch.tensor([4., 5., 6.])\n",
    "print(vec2)"
   ]
  },
  {
   "cell_type": "code",
   "execution_count": 12,
   "metadata": {},
   "outputs": [
    {
     "name": "stdout",
     "output_type": "stream",
     "text": [
      "tensor(32.)\n"
     ]
    }
   ],
   "source": [
    "print(torch.dot(vec1, vec2))"
   ]
  },
  {
   "cell_type": "markdown",
   "metadata": {},
   "source": [
    "벡터도 텐서와 마찬가지로 사칙연산이 가능하다."
   ]
  },
  {
   "cell_type": "markdown",
   "metadata": {},
   "source": [
    "### 4.1.3 행렬\n",
    "\n",
    "행렬은 두개 이상의 벡터값을 통합해 구성된 값으로 벡터 값 간 연산 속도를 빠르게 진행할 수 있는 선형 대수의 기본 단위이다."
   ]
  },
  {
   "cell_type": "code",
   "execution_count": 13,
   "metadata": {},
   "outputs": [
    {
     "name": "stdout",
     "output_type": "stream",
     "text": [
      "tensor([[1, 2],\n",
      "        [3, 4]])\n"
     ]
    }
   ],
   "source": [
    "mat1 = torch.tensor([[1,2],[3,4]])\n",
    "print(mat1)"
   ]
  },
  {
   "cell_type": "code",
   "execution_count": 15,
   "metadata": {},
   "outputs": [
    {
     "name": "stdout",
     "output_type": "stream",
     "text": [
      "tensor([[5, 6],\n",
      "        [7, 8]])\n"
     ]
    }
   ],
   "source": [
    "mat2 = torch.tensor([[5,6],[7,8]])\n",
    "print(mat2)"
   ]
  },
  {
   "cell_type": "code",
   "execution_count": 26,
   "metadata": {},
   "outputs": [
    {
     "data": {
      "text/plain": [
       "tensor([[19, 22],\n",
       "        [43, 50]])"
      ]
     },
     "execution_count": 26,
     "metadata": {},
     "output_type": "execute_result"
    }
   ],
   "source": [
    "torch.matmul(mat1, mat2) # 행렬 곱 연산"
   ]
  },
  {
   "cell_type": "markdown",
   "metadata": {},
   "source": [
    "행렬도 마찬가지로 사칙 연산이 가능하다."
   ]
  },
  {
   "cell_type": "markdown",
   "metadata": {},
   "source": [
    "### 4.1.4 텐서\n",
    "\n",
    "행렬을 2차원의 배열이라고 표시할 수 있다면 텐서는 2차원 이상의 베열을 표현할 수 있다."
   ]
  },
  {
   "cell_type": "code",
   "execution_count": 22,
   "metadata": {},
   "outputs": [
    {
     "name": "stdout",
     "output_type": "stream",
     "text": [
      "tensor([[[1., 2.],\n",
      "         [3., 4.],\n",
      "         [5., 6.],\n",
      "         [7., 8.]]])\n"
     ]
    }
   ],
   "source": [
    "ten1 = torch.tensor([[[1.,2.],[3.,4.],[5.,6.],[7.,8.]]])\n",
    "print(ten1)"
   ]
  },
  {
   "cell_type": "code",
   "execution_count": 23,
   "metadata": {},
   "outputs": [
    {
     "name": "stdout",
     "output_type": "stream",
     "text": [
      "tensor([[[ 9., 10.],\n",
      "         [11., 12.],\n",
      "         [13., 14.],\n",
      "         [15., 16.]]])\n"
     ]
    }
   ],
   "source": [
    "ten2 = torch.tensor([[[9.,10.],[11.,12.],[13.,14.],[15.,16.]]])\n",
    "print(ten2)"
   ]
  },
  {
   "cell_type": "code",
   "execution_count": 27,
   "metadata": {},
   "outputs": [
    {
     "ename": "RuntimeError",
     "evalue": "Expected batch2_sizes[0] == bs && batch2_sizes[1] == contraction_size to be true, but got false.  (Could this error message be improved?  If so, please report an enhancement request to PyTorch.)",
     "output_type": "error",
     "traceback": [
      "\u001b[1;31m---------------------------------------------------------------------------\u001b[0m",
      "\u001b[1;31mRuntimeError\u001b[0m                              Traceback (most recent call last)",
      "\u001b[1;32m<ipython-input-27-3a4cb08d9287>\u001b[0m in \u001b[0;36m<module>\u001b[1;34m\u001b[0m\n\u001b[1;32m----> 1\u001b[1;33m \u001b[0mtorch\u001b[0m\u001b[1;33m.\u001b[0m\u001b[0mmatmul\u001b[0m\u001b[1;33m(\u001b[0m\u001b[0mten1\u001b[0m\u001b[1;33m,\u001b[0m \u001b[0mten2\u001b[0m\u001b[1;33m)\u001b[0m\u001b[1;33m\u001b[0m\u001b[1;33m\u001b[0m\u001b[0m\n\u001b[0m",
      "\u001b[1;31mRuntimeError\u001b[0m: Expected batch2_sizes[0] == bs && batch2_sizes[1] == contraction_size to be true, but got false.  (Could this error message be improved?  If so, please report an enhancement request to PyTorch.)"
     ]
    }
   ],
   "source": [
    "# 왜 안돼 ?\n",
    "torch.matmul(ten1, ten2)"
   ]
  },
  {
   "cell_type": "markdown",
   "metadata": {},
   "source": [
    "## 4.2 Autograd"
   ]
  },
  {
   "cell_type": "markdown",
   "metadata": {},
   "source": [
    "파이토치를 이용해 코드를 작성할 때 Back Propagation을 이용해 파라미터를 업데이트 하는 방법은 Autograd 방식으로 쉽게 구현할 수 있도록 설정되어 있다. 요기에서는 정말 간단한 딥러닝 모델을 설계하여 방정식 내에 존재하는 파라미터가 어떻게 업데이트할 수 있는지 알아보자."
   ]
  },
  {
   "cell_type": "markdown",
   "metadata": {},
   "source": [
    "autograd 패키지는 텐서의 모든 연산에 대해 자동미분을 제공한다. 이 패키지는 실행 시점에서 정의되는 프레임워크인데 코드가 어떻게 실행되는지에 따라 역전파가 정의되며 각각의 반복마다 역전파가 달라질 수 있다는 것이다."
   ]
  },
  {
   "cell_type": "code",
   "execution_count": 29,
   "metadata": {},
   "outputs": [],
   "source": [
    "if torch.cuda.is_available() :\n",
    "    DEVICE = torch.device('cuda')\n",
    "else :\n",
    "    DEVICE = torch.device('cpu')\n",
    "    \n",
    "    # 참이면 cuda 장비를 이용한다."
   ]
  },
  {
   "cell_type": "code",
   "execution_count": 31,
   "metadata": {},
   "outputs": [],
   "source": [
    "batch_size = 64 # 파라미터를 업데이트 할 때 계산되는 데이터의 개수\n",
    "input_size = 1000 # 딥러닝 모델에서의 입력층의 노드\n",
    "hidden_size = 100 # input을 다수의 파라미터를 이용해 계산한 결과에 한 번 더 계산되는 파라미터 수\n",
    "output_size = 10 # 딥러닝 모델에서 최종으로 출력되는 값의 벡터의 크기"
   ]
  },
  {
   "cell_type": "markdown",
   "metadata": {},
   "source": [
    "batch_size 수만큼 데이터를 이용해 output을 계산하고 batch_size 수만큼 출려된 결괏값에 대한 오차값을 계산한다. batch_size 수만큼 계산된 오차값을 평균해 back propagation을 적용하고 이를 바탕으로 파라미터를 업데이트 한다. <br>\n",
    "batch_size : 우리가 사용한 예제는 input으로 이용되는 데이터가 64개라는 것을 의미한다. <br>\n",
    "input_size : 입력 데이터의 크기가 1000이라는 것이다. 1000 크기의 벡터의 값 <br>\n",
    "=> (64,1000)<br>\n",
    "hidden_size : 입력층에서 은닉층로 전달됐을 때 은닉층의 노드 수<br>\n",
    "output_size : output의 크기는  최종으로 비교하고자 하는 레이블의 크기와 동일하게 설정"
   ]
  },
  {
   "cell_type": "code",
   "execution_count": 43,
   "metadata": {},
   "outputs": [],
   "source": [
    "# requires_grad : 이미 존재하는 텐서의 requires_grad 플래그를 제자리에서 변경한다.\n",
    "x = torch.randn(batch_size, input_size, device=DEVICE, dtype=torch.float, requires_grad=False)\n",
    "y = torch.randn(batch_size, output_size, device=DEVICE, dtype=torch.float, requires_grad=False)\n",
    "w1 = torch.randn(input_size, hidden_size, device=DEVICE, dtype=torch.float, requires_grad=True)\n",
    "w2 = torch.randn(hidden_size, output_size, device=DEVICE, dtype=torch.float, requires_grad=True)"
   ]
  },
  {
   "cell_type": "markdown",
   "metadata": {},
   "source": [
    "(1) x 에 대한 설명\n",
    "\n",
    "randn은 평균이 0 표준편차가 1인 정규분포에서 샘플링한 값으로 데이터를 만든다는 것이다. 이때 크기가 1000짜리 벡터를 64개 만들기 위해 사이즈를 설정하였으며 x 는 (64, 1000)의 데이터가 생성된다. 또한 우리는 파라미터 값을 업데이트하기 위해 Gradient를 계산하는 것이지 input에 대해 Gradient를 하는 것이 아니기 때문에 requires_grad를 False로 설정한다. "
   ]
  },
  {
   "cell_type": "markdown",
   "metadata": {},
   "source": [
    "(2) y 에 대한 설명\n",
    "\n",
    "output 역시 batch_size 수만큼 결괏값이 필요하며 output과의 오차를 계산하기 위해 10으로 설정하였다."
   ]
  },
  {
   "cell_type": "markdown",
   "metadata": {},
   "source": [
    "(3) w1 에 대한 설명\n",
    "\n",
    "업데이트할 파라미터 값을 설정한다. input의 데이터  크기가 1000이며 행렬 곱을 하기 위해 다음의 행 값이 1000이어야 한다. 또한 행렬 곱을 통해 100 크기의 데이터를 생성하기 위해 (1000, 100) 크기의 데이터를 생성한다. 또한 Gradient를 계산할 수 있도록 requires_grad를 True로 설정한다."
   ]
  },
  {
   "cell_type": "markdown",
   "metadata": {},
   "source": [
    "(4) w2 에 대한 설명\n",
    "\n",
    "w1과 x를 행렬 곱한 결과에 계산할 수 있는 데이터여야 한다. "
   ]
  },
  {
   "cell_type": "code",
   "execution_count": 44,
   "metadata": {},
   "outputs": [
    {
     "name": "stdout",
     "output_type": "stream",
     "text": [
      "Iteration: 100 |t Loss : 449.9139404296875\n",
      "Iteration: 200 |t Loss : 1.283437728881836\n",
      "Iteration: 300 |t Loss : 0.005996609106659889\n",
      "Iteration: 400 |t Loss : 0.0001590217580087483\n",
      "Iteration: 500 |t Loss : 3.321874828543514e-05\n"
     ]
    }
   ],
   "source": [
    "learning_rate = 1e-6\n",
    "for t in range(1,501):\n",
    "    y_pred = x.mm(w1).clamp(min=0).mm(w2)\n",
    "    \n",
    "    loss = (y_pred - y).pow(2).sum()\n",
    "    if t % 100 == 0 :\n",
    "        print(\"Iteration:\", t, \"|t\",\"Loss :\", loss.item())\n",
    "    loss.backward()\n",
    "    \n",
    "    with torch.no_grad():\n",
    "        w1 -= learning_rate * w1.grad\n",
    "        w2 -= learning_rate * w2.grad\n",
    "        \n",
    "        w1.grad.zero_()\n",
    "        w2.grad.zero_()"
   ]
  },
  {
   "cell_type": "markdown",
   "metadata": {},
   "source": [
    "learning_rate : 딥러닝 모델에서 파라미터 값을 업데이트 할 때 가장 중요한 하이퍼파라미터이다.<br>\n",
    "x.mm(x1) : 행렬 곱을 이용해 나온 결과값을 계산한다.<br>\n",
    "clamp(min=0) : 비선형 함수, ReLU()와 같은 역할인데 최솟값이 0이며 0보다 큰 값은 자기 자신을 갖게 되는 메서드이다.clamp를 이용해 계산된 결과와 w2의 행렬 곱을 통해 나온 결과값을 도출한다.<br>\n",
    "loss : 예측값 - 실제값의 제곱의 합<br>\n",
    "loss.backward() : 각 파라미터 값에 대해 Gradient를 계산하고 이를 통해 Back Propagation을 진행한다는 의미이다.<br>\n",
    "torch.no_grad() : 각 파라미터 값에 대해 Gradient를 계산한 결과를 이용해 파라미터 값을 업데이트할 때는 해당 시점의 Gradient 값을 고정한 후에 업데이트를 진행한다.\n",
    "\n",
    "\n",
    "w1의 Gradient 값을 의미하는 w1.grad에 learning_rate를 곱한 값을 기존 w1에서 뻬준다. 음수를 이용하는 이유는 loss 값이 최소로 계산될 수 있는 파라미터 값을 찾기 위해 반대 방향으로 계산한다는 것을 의미한다.<br>\n",
    ".zero_() : 다음 반복문을 진행할 수 있도록 Gradient 값을 0으로 설정한다. 다음 Backpropagation을 진행할 때 gradient 값을 loss,backward()를 통해 계산하기 때문이다."
   ]
  },
  {
   "cell_type": "code",
   "execution_count": null,
   "metadata": {},
   "outputs": [],
   "source": []
  }
 ],
 "metadata": {
  "kernelspec": {
   "display_name": "Python 3",
   "language": "python",
   "name": "python3"
  },
  "language_info": {
   "codemirror_mode": {
    "name": "ipython",
    "version": 3
   },
   "file_extension": ".py",
   "mimetype": "text/x-python",
   "name": "python",
   "nbconvert_exporter": "python",
   "pygments_lexer": "ipython3",
   "version": "3.8.5"
  }
 },
 "nbformat": 4,
 "nbformat_minor": 4
}
